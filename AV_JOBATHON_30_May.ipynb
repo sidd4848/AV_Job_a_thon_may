{
  "nbformat": 4,
  "nbformat_minor": 0,
  "metadata": {
    "colab": {
      "name": "AV_JOBATHON_30_May.ipynb",
      "provenance": [],
      "collapsed_sections": [],
      "toc_visible": true,
      "mount_file_id": "14Zk5LYV0PZrWltIDE41HKgp_U5Z7izQF",
      "authorship_tag": "ABX9TyOr2qjvJkFDl/w/nZbDj7yP"
    },
    "kernelspec": {
      "name": "python3",
      "display_name": "Python 3"
    },
    "language_info": {
      "name": "python"
    },
    "accelerator": "GPU"
  },
  "cells": [
    {
      "cell_type": "markdown",
      "metadata": {
        "id": "2vNadDV_aCZG"
      },
      "source": [
        "# Credit Card Lead Prediction\n",
        "Happy Customer Bank is a mid-sized private bank that deals in all kinds of banking products, like Savings accounts, Current accounts, investment products, credit products, among other offerings.\n",
        "\n",
        "\n",
        "\n",
        "The bank also cross-sells products to its existing customers and to do so they use different kinds of communication like tele-calling, e-mails, recommendations on net banking, mobile banking, etc. \n",
        "\n",
        "**Current problem** the Happy Customer Bank wants to cross sell its credit cards to its existing customers. The bank has identified a set of customers that are eligible for taking these credit cards.\n",
        "\n",
        "**Data Dictionary**\n",
        "<table>\n",
        "<tbody>\n",
        "<tr> <th> Variable </th> <th> Definition </th> </tr>\n",
        "\n",
        "<tr> <td> ID </td> <td> Unique Identifier for a row</td> </tr>\n",
        "\n",
        "<tr> <td> Gender </td> <td> Gender of the Customer </td> </tr>\n",
        "\n",
        "<tr> <td>Age </td> <td> Age of the Customer (in Years) </td> </tr>\n",
        "\n",
        "<tr> <td>Region_Code </td> <td> Code of the Region for the customers </td> </tr>\n",
        "\n",
        "<tr> <td> Occupation </td> <td> Occupation Type for the customer </td> </tr>\n",
        "\n",
        "<tr> <td> Channel_Code </td> <td> Acquisition Channel Code for the Customer  (Encoded) </td> </tr>\n",
        "\n",
        "<tr> <td> Vintage </td> <td> Vintage for the Customer (In Months)</td> </tr>\n",
        "\n",
        "<tr> <td> Credit_Product </td> <td> If the Customer has any active credit product (Home loan, Personal loan, Credit Card etc.) </td> </tr>\n",
        "\n",
        "<tr> <td> Avg_Account_Balance </td> <td> Average Account Balance for the Customer in last 12 Months  </td> </tr>\n",
        "\n",
        "<tr> <td> Is_Active </td> <td> If the Customer is Active in last 3 Months </td> </tr>\n",
        "\n",
        "<tr> <td> Is_Lead(Target) </td> <td> If the Customer is interested for the Credit Card <br> 0 : Customer is not interested <br> 1 : Customer is interested </td> </tr>\n",
        "\n",
        "\n",
        "</tbody>\n",
        "</table>\n"
      ]
    },
    {
      "cell_type": "markdown",
      "metadata": {
        "id": "WOsaOUSEcnmE"
      },
      "source": [
        "## Importing Libraries"
      ]
    },
    {
      "cell_type": "code",
      "metadata": {
        "id": "TZCov0yGIMxj",
        "colab": {
          "base_uri": "https://localhost:8080/",
          "height": 36
        },
        "outputId": "9bf5ad53-4cd5-4ce0-e2e7-038309b27173"
      },
      "source": [
        "import warnings\n",
        "warnings.filterwarnings(\"ignore\")\n",
        "\n",
        "import pandas as pd\n",
        "import numpy as np\n",
        "import seaborn as sns\n",
        "import matplotlib.pyplot as plt\n",
        "from sklearn.ensemble import RandomForestClassifier\n",
        "from sklearn.model_selection import GridSearchCV\n",
        "from sklearn.model_selection import train_test_split\n",
        "from sklearn.metrics import roc_curve\n",
        "from sklearn.metrics import roc_auc_score\n",
        "from imblearn.over_sampling import SMOTE\n",
        "from collections import Counter\n",
        "from sklearn.metrics import confusion_matrix\n",
        "from xgboost import XGBClassifier\n",
        "from sklearn.model_selection import RandomizedSearchCV\n",
        "from lightgbm import LGBMClassifier\n",
        "from xgboost import XGBClassifier\n",
        "from sklearn.model_selection import StratifiedKFold\n",
        "\n",
        "from IPython.display import HTML\n",
        "\n",
        "HTML('''<script>\n",
        "code_show=true; \n",
        "function code_toggle() {\n",
        " if (code_show){\n",
        " $('div.input').hide();\n",
        " } else {\n",
        " $('div.input').show();\n",
        " }\n",
        " code_show = !code_show\n",
        "} \n",
        "$( document ).ready(code_toggle);\n",
        "</script>\n",
        "<form action=\"javascript:code_toggle()\"><input type=\"submit\" value=\"Click here to toggle on/off the raw code.\"></form>''')"
      ],
      "execution_count": 1,
      "outputs": [
        {
          "output_type": "execute_result",
          "data": {
            "text/html": [
              "<script>\n",
              "code_show=true; \n",
              "function code_toggle() {\n",
              " if (code_show){\n",
              " $('div.input').hide();\n",
              " } else {\n",
              " $('div.input').show();\n",
              " }\n",
              " code_show = !code_show\n",
              "} \n",
              "$( document ).ready(code_toggle);\n",
              "</script>\n",
              "<form action=\"javascript:code_toggle()\"><input type=\"submit\" value=\"Click here to toggle on/off the raw code.\"></form>"
            ],
            "text/plain": [
              "<IPython.core.display.HTML object>"
            ]
          },
          "metadata": {
            "tags": []
          },
          "execution_count": 1
        }
      ]
    },
    {
      "cell_type": "markdown",
      "metadata": {
        "id": "ybn3GOjQcq35"
      },
      "source": [
        "## Importing Data"
      ]
    },
    {
      "cell_type": "code",
      "metadata": {
        "colab": {
          "base_uri": "https://localhost:8080/",
          "height": 204
        },
        "id": "E2jJpc4UK-hH",
        "outputId": "5b4f89e3-78f8-4793-f2f4-bc0ecbeb72b9"
      },
      "source": [
        "df_ads = pd.read_csv(\"/content/drive/MyDrive/Colab Notebooks/train_s3TEQDk.csv\")\n",
        "df_ads.head()"
      ],
      "execution_count": 2,
      "outputs": [
        {
          "output_type": "execute_result",
          "data": {
            "text/html": [
              "<div>\n",
              "<style scoped>\n",
              "    .dataframe tbody tr th:only-of-type {\n",
              "        vertical-align: middle;\n",
              "    }\n",
              "\n",
              "    .dataframe tbody tr th {\n",
              "        vertical-align: top;\n",
              "    }\n",
              "\n",
              "    .dataframe thead th {\n",
              "        text-align: right;\n",
              "    }\n",
              "</style>\n",
              "<table border=\"1\" class=\"dataframe\">\n",
              "  <thead>\n",
              "    <tr style=\"text-align: right;\">\n",
              "      <th></th>\n",
              "      <th>ID</th>\n",
              "      <th>Gender</th>\n",
              "      <th>Age</th>\n",
              "      <th>Region_Code</th>\n",
              "      <th>Occupation</th>\n",
              "      <th>Channel_Code</th>\n",
              "      <th>Vintage</th>\n",
              "      <th>Credit_Product</th>\n",
              "      <th>Avg_Account_Balance</th>\n",
              "      <th>Is_Active</th>\n",
              "      <th>Is_Lead</th>\n",
              "    </tr>\n",
              "  </thead>\n",
              "  <tbody>\n",
              "    <tr>\n",
              "      <th>0</th>\n",
              "      <td>NNVBBKZB</td>\n",
              "      <td>Female</td>\n",
              "      <td>73</td>\n",
              "      <td>RG268</td>\n",
              "      <td>Other</td>\n",
              "      <td>X3</td>\n",
              "      <td>43</td>\n",
              "      <td>No</td>\n",
              "      <td>1045696</td>\n",
              "      <td>No</td>\n",
              "      <td>0</td>\n",
              "    </tr>\n",
              "    <tr>\n",
              "      <th>1</th>\n",
              "      <td>IDD62UNG</td>\n",
              "      <td>Female</td>\n",
              "      <td>30</td>\n",
              "      <td>RG277</td>\n",
              "      <td>Salaried</td>\n",
              "      <td>X1</td>\n",
              "      <td>32</td>\n",
              "      <td>No</td>\n",
              "      <td>581988</td>\n",
              "      <td>No</td>\n",
              "      <td>0</td>\n",
              "    </tr>\n",
              "    <tr>\n",
              "      <th>2</th>\n",
              "      <td>HD3DSEMC</td>\n",
              "      <td>Female</td>\n",
              "      <td>56</td>\n",
              "      <td>RG268</td>\n",
              "      <td>Self_Employed</td>\n",
              "      <td>X3</td>\n",
              "      <td>26</td>\n",
              "      <td>No</td>\n",
              "      <td>1484315</td>\n",
              "      <td>Yes</td>\n",
              "      <td>0</td>\n",
              "    </tr>\n",
              "    <tr>\n",
              "      <th>3</th>\n",
              "      <td>BF3NC7KV</td>\n",
              "      <td>Male</td>\n",
              "      <td>34</td>\n",
              "      <td>RG270</td>\n",
              "      <td>Salaried</td>\n",
              "      <td>X1</td>\n",
              "      <td>19</td>\n",
              "      <td>No</td>\n",
              "      <td>470454</td>\n",
              "      <td>No</td>\n",
              "      <td>0</td>\n",
              "    </tr>\n",
              "    <tr>\n",
              "      <th>4</th>\n",
              "      <td>TEASRWXV</td>\n",
              "      <td>Female</td>\n",
              "      <td>30</td>\n",
              "      <td>RG282</td>\n",
              "      <td>Salaried</td>\n",
              "      <td>X1</td>\n",
              "      <td>33</td>\n",
              "      <td>No</td>\n",
              "      <td>886787</td>\n",
              "      <td>No</td>\n",
              "      <td>0</td>\n",
              "    </tr>\n",
              "  </tbody>\n",
              "</table>\n",
              "</div>"
            ],
            "text/plain": [
              "         ID  Gender  Age  ... Avg_Account_Balance Is_Active Is_Lead\n",
              "0  NNVBBKZB  Female   73  ...             1045696        No       0\n",
              "1  IDD62UNG  Female   30  ...              581988        No       0\n",
              "2  HD3DSEMC  Female   56  ...             1484315       Yes       0\n",
              "3  BF3NC7KV    Male   34  ...              470454        No       0\n",
              "4  TEASRWXV  Female   30  ...              886787        No       0\n",
              "\n",
              "[5 rows x 11 columns]"
            ]
          },
          "metadata": {
            "tags": []
          },
          "execution_count": 2
        }
      ]
    },
    {
      "cell_type": "markdown",
      "metadata": {
        "id": "6A3nd3qncvYu"
      },
      "source": [
        "## Data Wrangling"
      ]
    },
    {
      "cell_type": "code",
      "metadata": {
        "colab": {
          "base_uri": "https://localhost:8080/"
        },
        "id": "19ZIJ_sWc_QT",
        "outputId": "3311b753-6a6e-4133-ab4f-d4f361771b5e"
      },
      "source": [
        "print(\"number of rows and columns of the data\")\n",
        "df_ads.shape"
      ],
      "execution_count": 4,
      "outputs": [
        {
          "output_type": "stream",
          "text": [
            "number of rows and columns of the data\n"
          ],
          "name": "stdout"
        },
        {
          "output_type": "execute_result",
          "data": {
            "text/plain": [
              "(245725, 11)"
            ]
          },
          "metadata": {
            "tags": []
          },
          "execution_count": 4
        }
      ]
    },
    {
      "cell_type": "code",
      "metadata": {
        "colab": {
          "base_uri": "https://localhost:8080/"
        },
        "id": "_E3Upl3Mdtlm",
        "outputId": "3799a4a7-9ed0-468b-e3c5-8cb849f77755"
      },
      "source": [
        "df_ads.info()"
      ],
      "execution_count": 5,
      "outputs": [
        {
          "output_type": "stream",
          "text": [
            "<class 'pandas.core.frame.DataFrame'>\n",
            "RangeIndex: 245725 entries, 0 to 245724\n",
            "Data columns (total 11 columns):\n",
            " #   Column               Non-Null Count   Dtype \n",
            "---  ------               --------------   ----- \n",
            " 0   ID                   245725 non-null  object\n",
            " 1   Gender               245725 non-null  object\n",
            " 2   Age                  245725 non-null  int64 \n",
            " 3   Region_Code          245725 non-null  object\n",
            " 4   Occupation           245725 non-null  object\n",
            " 5   Channel_Code         245725 non-null  object\n",
            " 6   Vintage              245725 non-null  int64 \n",
            " 7   Credit_Product       216400 non-null  object\n",
            " 8   Avg_Account_Balance  245725 non-null  int64 \n",
            " 9   Is_Active            245725 non-null  object\n",
            " 10  Is_Lead              245725 non-null  int64 \n",
            "dtypes: int64(4), object(7)\n",
            "memory usage: 20.6+ MB\n"
          ],
          "name": "stdout"
        }
      ]
    },
    {
      "cell_type": "markdown",
      "metadata": {
        "id": "RcuxaRDDetEJ"
      },
      "source": [
        "- **There are only 4 integer columns**\n",
        "- **Credit product is a categorical value and has null values**"
      ]
    },
    {
      "cell_type": "markdown",
      "metadata": {
        "id": "pvpxK9Xcf5lN"
      },
      "source": [
        "### Treatment of missing data"
      ]
    },
    {
      "cell_type": "code",
      "metadata": {
        "colab": {
          "base_uri": "https://localhost:8080/"
        },
        "id": "6FgNnYPKgrFi",
        "outputId": "84e3ee94-12df-44c4-f36b-e78c487e697b"
      },
      "source": [
        "df_ads['Credit_Product'].unique()"
      ],
      "execution_count": 5,
      "outputs": [
        {
          "output_type": "execute_result",
          "data": {
            "text/plain": [
              "array(['No', nan, 'Yes'], dtype=object)"
            ]
          },
          "metadata": {
            "tags": []
          },
          "execution_count": 5
        }
      ]
    },
    {
      "cell_type": "code",
      "metadata": {
        "colab": {
          "base_uri": "https://localhost:8080/"
        },
        "id": "7b2_4PWegNxp",
        "outputId": "3180e736-97bd-41c1-8876-8a6633f93307"
      },
      "source": [
        "print(\"Count of No\", len(df_ads[df_ads.Credit_Product == 'No']))\n",
        "print(\"Count of Yes\", len(df_ads[df_ads.Credit_Product == 'Yes']))"
      ],
      "execution_count": 6,
      "outputs": [
        {
          "output_type": "stream",
          "text": [
            "Count of No 144357\n",
            "Count of Yes 72043\n"
          ],
          "name": "stdout"
        }
      ]
    },
    {
      "cell_type": "markdown",
      "metadata": {
        "id": "iIUJ_OxchYEL"
      },
      "source": [
        "**Missing data in Credit product is to be treated with mode value which in this case is No**"
      ]
    },
    {
      "cell_type": "code",
      "metadata": {
        "colab": {
          "base_uri": "https://localhost:8080/"
        },
        "id": "WIzNpfoHhMsy",
        "outputId": "42192832-727c-4991-b917-61c8a50d8ae3"
      },
      "source": [
        "df_ads_v1 = df_ads.fillna(\"No\")\n",
        "df_ads_v1.info()"
      ],
      "execution_count": 7,
      "outputs": [
        {
          "output_type": "stream",
          "text": [
            "<class 'pandas.core.frame.DataFrame'>\n",
            "RangeIndex: 245725 entries, 0 to 245724\n",
            "Data columns (total 11 columns):\n",
            " #   Column               Non-Null Count   Dtype \n",
            "---  ------               --------------   ----- \n",
            " 0   ID                   245725 non-null  object\n",
            " 1   Gender               245725 non-null  object\n",
            " 2   Age                  245725 non-null  int64 \n",
            " 3   Region_Code          245725 non-null  object\n",
            " 4   Occupation           245725 non-null  object\n",
            " 5   Channel_Code         245725 non-null  object\n",
            " 6   Vintage              245725 non-null  int64 \n",
            " 7   Credit_Product       245725 non-null  object\n",
            " 8   Avg_Account_Balance  245725 non-null  int64 \n",
            " 9   Is_Active            245725 non-null  object\n",
            " 10  Is_Lead              245725 non-null  int64 \n",
            "dtypes: int64(4), object(7)\n",
            "memory usage: 20.6+ MB\n"
          ],
          "name": "stdout"
        }
      ]
    },
    {
      "cell_type": "markdown",
      "metadata": {
        "id": "rX-0gcevhtK9"
      },
      "source": [
        "## Exploratory Data Analysis"
      ]
    },
    {
      "cell_type": "markdown",
      "metadata": {
        "id": "MoFjUwp5h0wT"
      },
      "source": [
        "### Univariate Analysis\n"
      ]
    },
    {
      "cell_type": "code",
      "metadata": {
        "colab": {
          "base_uri": "https://localhost:8080/",
          "height": 297
        },
        "id": "3yjHYiBjfY9r",
        "outputId": "7ade5084-0223-46ae-dbf7-71c506e108b6"
      },
      "source": [
        "df_ads_v1.describe()"
      ],
      "execution_count": 8,
      "outputs": [
        {
          "output_type": "execute_result",
          "data": {
            "text/html": [
              "<div>\n",
              "<style scoped>\n",
              "    .dataframe tbody tr th:only-of-type {\n",
              "        vertical-align: middle;\n",
              "    }\n",
              "\n",
              "    .dataframe tbody tr th {\n",
              "        vertical-align: top;\n",
              "    }\n",
              "\n",
              "    .dataframe thead th {\n",
              "        text-align: right;\n",
              "    }\n",
              "</style>\n",
              "<table border=\"1\" class=\"dataframe\">\n",
              "  <thead>\n",
              "    <tr style=\"text-align: right;\">\n",
              "      <th></th>\n",
              "      <th>Age</th>\n",
              "      <th>Vintage</th>\n",
              "      <th>Avg_Account_Balance</th>\n",
              "      <th>Is_Lead</th>\n",
              "    </tr>\n",
              "  </thead>\n",
              "  <tbody>\n",
              "    <tr>\n",
              "      <th>count</th>\n",
              "      <td>245725.000000</td>\n",
              "      <td>245725.000000</td>\n",
              "      <td>2.457250e+05</td>\n",
              "      <td>245725.000000</td>\n",
              "    </tr>\n",
              "    <tr>\n",
              "      <th>mean</th>\n",
              "      <td>43.856307</td>\n",
              "      <td>46.959141</td>\n",
              "      <td>1.128403e+06</td>\n",
              "      <td>0.237208</td>\n",
              "    </tr>\n",
              "    <tr>\n",
              "      <th>std</th>\n",
              "      <td>14.828672</td>\n",
              "      <td>32.353136</td>\n",
              "      <td>8.529364e+05</td>\n",
              "      <td>0.425372</td>\n",
              "    </tr>\n",
              "    <tr>\n",
              "      <th>min</th>\n",
              "      <td>23.000000</td>\n",
              "      <td>7.000000</td>\n",
              "      <td>2.079000e+04</td>\n",
              "      <td>0.000000</td>\n",
              "    </tr>\n",
              "    <tr>\n",
              "      <th>25%</th>\n",
              "      <td>30.000000</td>\n",
              "      <td>20.000000</td>\n",
              "      <td>6.043100e+05</td>\n",
              "      <td>0.000000</td>\n",
              "    </tr>\n",
              "    <tr>\n",
              "      <th>50%</th>\n",
              "      <td>43.000000</td>\n",
              "      <td>32.000000</td>\n",
              "      <td>8.946010e+05</td>\n",
              "      <td>0.000000</td>\n",
              "    </tr>\n",
              "    <tr>\n",
              "      <th>75%</th>\n",
              "      <td>54.000000</td>\n",
              "      <td>73.000000</td>\n",
              "      <td>1.366666e+06</td>\n",
              "      <td>0.000000</td>\n",
              "    </tr>\n",
              "    <tr>\n",
              "      <th>max</th>\n",
              "      <td>85.000000</td>\n",
              "      <td>135.000000</td>\n",
              "      <td>1.035201e+07</td>\n",
              "      <td>1.000000</td>\n",
              "    </tr>\n",
              "  </tbody>\n",
              "</table>\n",
              "</div>"
            ],
            "text/plain": [
              "                 Age        Vintage  Avg_Account_Balance        Is_Lead\n",
              "count  245725.000000  245725.000000         2.457250e+05  245725.000000\n",
              "mean       43.856307      46.959141         1.128403e+06       0.237208\n",
              "std        14.828672      32.353136         8.529364e+05       0.425372\n",
              "min        23.000000       7.000000         2.079000e+04       0.000000\n",
              "25%        30.000000      20.000000         6.043100e+05       0.000000\n",
              "50%        43.000000      32.000000         8.946010e+05       0.000000\n",
              "75%        54.000000      73.000000         1.366666e+06       0.000000\n",
              "max        85.000000     135.000000         1.035201e+07       1.000000"
            ]
          },
          "metadata": {
            "tags": []
          },
          "execution_count": 8
        }
      ]
    },
    {
      "cell_type": "markdown",
      "metadata": {
        "id": "Xjt53AKdl1TA"
      },
      "source": [
        "#### Numerical variables"
      ]
    },
    {
      "cell_type": "code",
      "metadata": {
        "colab": {
          "base_uri": "https://localhost:8080/",
          "height": 494
        },
        "id": "DMgsCB9PhyQv",
        "outputId": "f01e360b-0aa1-46a3-c231-1834f7747345"
      },
      "source": [
        "plt.figure(figsize=[24,7])\n",
        "plt.subplots_adjust(left=None, bottom=None, right=None, top=None, wspace=0.1, hspace=0.5)\n",
        "\n",
        "plt.subplot(2, 2, 1)\n",
        "sns.boxplot(df_ads_v1.Age)\n",
        "plt.title(\"Age\")\n",
        "plt.plot()\n",
        "plt.subplot(2, 2, 2)\n",
        "sns.boxplot(df_ads_v1.Vintage)\n",
        "plt.title(\"Vintage\")\n",
        "plt.plot()\n",
        "plt.subplot(2, 2, 3)\n",
        "sns.boxplot(df_ads_v1.Avg_Account_Balance)\n",
        "plt.title(\"Avg_Account_Balance\")\n",
        "plt.plot()\n",
        "\n",
        "plt.suptitle(\"Distribution of numerical variables\")\n",
        "plt.show()"
      ],
      "execution_count": 9,
      "outputs": [
        {
          "output_type": "display_data",
          "data": {
            "image/png": "[encoded data removed]",
            "text/plain": [
              "<Figure size 1728x504 with 3 Axes>"
            ]
          },
          "metadata": {
            "tags": [],
            "needs_background": "light"
          }
        }
      ]
    },
    {
      "cell_type": "markdown",
      "metadata": {
        "id": "ECHyLlKAmBDo"
      },
      "source": [
        "#### Categorical variables"
      ]
    },
    {
      "cell_type": "code",
      "metadata": {
        "colab": {
          "base_uri": "https://localhost:8080/",
          "height": 903
        },
        "id": "LoE2finpkrNe",
        "outputId": "c2b3c71e-2484-45c1-c528-3d29c6ce0587"
      },
      "source": [
        "plt.figure(figsize=[24,10])\n",
        "plt.subplots_adjust(left=None, bottom=None, right=None, top=None, wspace=0.1, hspace=0.6)\n",
        "\n",
        "\n",
        "plt.subplot(3, 2, 1)\n",
        "df_temp = df_ads_v1.groupby(df_ads_v1['Gender'], as_index = False).count()\n",
        "sns.barplot(df_temp.Gender, df_temp.ID)\n",
        "plt.ylabel(\"Count\")\n",
        "plt.title(\"Gender\")\n",
        "# Get current axis on current figure\n",
        "ax = plt.gca()\n",
        "# Iterate through the list of axes' patches\n",
        "for p in ax.patches:\n",
        "    ax.text(p.get_x() + p.get_width()/2., 0.5*p.get_height() , '%d' % int(p.get_height()), \n",
        "            fontsize=12, color='black', ha='center', va='bottom')\n",
        "plt.plot()\n",
        "\n",
        "plt.subplot(3, 2, 2)\n",
        "df_temp = df_ads_v1.groupby(df_ads_v1['Credit_Product'], as_index = False).count()\n",
        "sns.barplot(df_temp.Credit_Product, df_temp.ID)\n",
        "plt.ylabel(\"Count\")\n",
        "plt.title(\"Credit_Product\")\n",
        "# Get current axis on current figure\n",
        "ax = plt.gca()\n",
        "# Iterate through the list of axes' patches\n",
        "for p in ax.patches:\n",
        "    ax.text(p.get_x() + p.get_width()/2., 0.5*p.get_height() , '%d' % int(p.get_height()), \n",
        "            fontsize=12, color='black', ha='center', va='bottom')\n",
        "plt.plot()\n",
        "\n",
        "plt.subplot(3, 2, 3)\n",
        "df_temp = df_ads_v1.groupby(df_ads_v1['Occupation'], as_index = False).count()\n",
        "sns.barplot(df_temp.Occupation, df_temp.ID)\n",
        "plt.ylabel(\"Count\")\n",
        "plt.title(\"Occupation\")\n",
        "# Get current axis on current figure\n",
        "ax = plt.gca()\n",
        "# Iterate through the list of axes' patches\n",
        "for p in ax.patches:\n",
        "    ax.text(p.get_x() + p.get_width()/2., 0.5*p.get_height() , '%d' % int(p.get_height()), \n",
        "            fontsize=12, color='black', ha='center', va='bottom')\n",
        "plt.plot()\n",
        "\n",
        "plt.subplot(3, 2, 4)\n",
        "df_temp = df_ads_v1.groupby(df_ads_v1['Channel_Code'], as_index = False).count()\n",
        "sns.barplot(df_temp.Channel_Code, df_temp.ID)\n",
        "plt.ylabel(\"Count\")\n",
        "plt.title(\"Channel_Code\")\n",
        "# Get current axis on current figure\n",
        "ax = plt.gca()\n",
        "# Iterate through the list of axes' patches\n",
        "for p in ax.patches:\n",
        "    ax.text(p.get_x() + p.get_width()/2., 0.5*p.get_height() , '%d' % int(p.get_height()), \n",
        "            fontsize=12, color='black', ha='center', va='bottom')\n",
        "plt.plot()\n",
        "\n",
        "plt.subplot(3, 2, 5)\n",
        "df_temp = df_ads_v1.groupby(df_ads_v1['Is_Active'], as_index = False).count()\n",
        "sns.barplot(df_temp.Is_Active, df_temp.ID)\n",
        "plt.ylabel(\"Count\")\n",
        "plt.title(\"Is_Active\")\n",
        "# Get current axis on current figure\n",
        "ax = plt.gca()\n",
        "# Iterate through the list of axes' patches\n",
        "for p in ax.patches:\n",
        "    ax.text(p.get_x() + p.get_width()/2., 0.5*p.get_height() , '%d' % int(p.get_height()), \n",
        "            fontsize=12, color='black', ha='center', va='bottom')\n",
        "plt.plot()\n",
        "\n",
        "plt.subplot(3, 2, 6)\n",
        "df_temp = df_ads_v1.groupby(df_ads_v1['Is_Lead'], as_index = False).count()\n",
        "sns.barplot(df_temp.Is_Lead, df_temp.ID)\n",
        "plt.ylabel(\"Count\")\n",
        "plt.title(\"Is_Lead\")\n",
        "# Get current axis on current figure\n",
        "ax = plt.gca()\n",
        "# Iterate through the list of axes' patches\n",
        "for p in ax.patches:\n",
        "    ax.text(p.get_x() + p.get_width()/2., 0.5*p.get_height() , '%d' % int(p.get_height()), \n",
        "            fontsize=12, color='black', ha='center', va='bottom')\n",
        "plt.plot()\n",
        "\n",
        "plt.suptitle(\"Distribution of Categorical variables\")\n",
        "plt.show()\n",
        "\n",
        "plt.figure(figsize=[24,3])\n",
        "df_temp = df_ads_v1.groupby(df_ads_v1['Region_Code'], as_index = False).count()\n",
        "sns.barplot(df_temp.Region_Code, df_temp.ID)\n",
        "plt.ylabel(\"Count\")\n",
        "plt.title(\"Region_Code\")\n",
        "# Get current axis on current figure\n",
        "ax = plt.gca()\n",
        "# Iterate through the list of axes' patches\n",
        "for p in ax.patches:\n",
        "    ax.text(p.get_x() + p.get_width()/2., 0.5*p.get_height() , '%d' % int(p.get_height()), \n",
        "            fontsize=12, color='black', ha='center', va='bottom')\n",
        "plt.plot()\n",
        "plt.show()"
      ],
      "execution_count": 10,
      "outputs": [
        {
          "output_type": "display_data",
          "data": {
            "image/png": "[encoded data removed]",
            "text/plain": [
              "<Figure size 1728x720 with 6 Axes>"
            ]
          },
          "metadata": {
            "tags": [],
            "needs_background": "light"
          }
        },
        {
          "output_type": "display_data",
          "data": {
            "image/png": "[encoded data removed]",
            "text/plain": [
              "<Figure size 1728x216 with 1 Axes>"
            ]
          },
          "metadata": {
            "tags": [],
            "needs_background": "light"
          }
        }
      ]
    },
    {
      "cell_type": "markdown",
      "metadata": {
        "id": "T6m1Ke5sqR8A"
      },
      "source": [
        "### Bivariate Analysis"
      ]
    },
    {
      "cell_type": "code",
      "metadata": {
        "colab": {
          "base_uri": "https://localhost:8080/",
          "height": 903
        },
        "id": "yx8eF8blqWyr",
        "outputId": "8d7e325b-811d-4e4d-80ab-cce938bbe02a"
      },
      "source": [
        "plt.figure(figsize=[24,10])\n",
        "plt.subplots_adjust(left=None, bottom=None, right=None, top=None, wspace=0.1, hspace=0.6)\n",
        "\n",
        "\n",
        "plt.subplot(3, 2, 1)\n",
        "df_temp = df_ads_v1.groupby(['Gender','Is_Lead'], as_index = False).count()\n",
        "sns.barplot(df_temp.Gender, df_temp.ID, hue = df_temp['Is_Lead'])\n",
        "plt.ylabel(\"Count\")\n",
        "plt.title(\"Gender\")\n",
        "plt.plot()\n",
        "\n",
        "plt.subplot(3, 2, 2)\n",
        "df_temp = df_ads_v1.groupby(['Credit_Product','Is_Lead'], as_index = False).count()\n",
        "sns.barplot(df_temp.Credit_Product, df_temp.ID, hue = df_temp['Is_Lead'])\n",
        "plt.ylabel(\"Count\")\n",
        "plt.title(\"Credit_Product\")\n",
        "plt.plot()\n",
        "\n",
        "plt.subplot(3, 2, 3)\n",
        "df_temp = df_ads_v1.groupby(['Occupation','Is_Lead'], as_index = False).count()\n",
        "sns.barplot(df_temp.Occupation, df_temp.ID, hue = df_temp['Is_Lead'])\n",
        "plt.ylabel(\"Count\")\n",
        "plt.title(\"Occupation\")\n",
        "plt.plot()\n",
        "\n",
        "plt.subplot(3, 2, 4)\n",
        "df_temp = df_ads_v1.groupby(['Channel_Code','Is_Lead'], as_index = False).count()\n",
        "sns.barplot(df_temp.Channel_Code, df_temp.ID, hue = df_temp['Is_Lead'])\n",
        "plt.ylabel(\"Count\")\n",
        "plt.title(\"Channel_Code\")\n",
        "plt.plot()\n",
        "\n",
        "plt.subplot(3, 2, 5)\n",
        "df_temp = df_ads_v1.groupby(['Is_Active','Is_Lead'], as_index = False).count()\n",
        "sns.barplot(df_temp.Is_Active, df_temp.ID, hue = df_temp['Is_Lead'])\n",
        "plt.ylabel(\"Count\")\n",
        "plt.title(\"Is_Active\")\n",
        "plt.plot()\n",
        "\n",
        "\n",
        "plt.suptitle(\"Distribution of Categorical variables vs Is_Lead\")\n",
        "plt.show()\n",
        "\n",
        "plt.figure(figsize=[24,3])\n",
        "df_temp = df_ads_v1.groupby(['Region_Code','Is_Lead'], as_index = False).count()\n",
        "sns.barplot(df_temp.Region_Code, df_temp.ID, hue = df_temp['Is_Lead'])\n",
        "plt.ylabel(\"Count\")\n",
        "plt.title(\"Region_Code\")\n",
        "plt.plot()\n",
        "plt.show()"
      ],
      "execution_count": 11,
      "outputs": [
        {
          "output_type": "display_data",
          "data": {
            "image/png": "[encoded data removed]",
            "text/plain": [
              "<Figure size 1728x720 with 5 Axes>"
            ]
          },
          "metadata": {
            "tags": [],
            "needs_background": "light"
          }
        },
        {
          "output_type": "display_data",
          "data": {
            "image/png": "[encoded data removed]",
            "text/plain": [
              "<Figure size 1728x216 with 1 Axes>"
            ]
          },
          "metadata": {
            "tags": [],
            "needs_background": "light"
          }
        }
      ]
    },
    {
      "cell_type": "markdown",
      "metadata": {
        "id": "XPS50g7g_1_l"
      },
      "source": [
        "## Model Training"
      ]
    },
    {
      "cell_type": "markdown",
      "metadata": {
        "id": "cMn-PDFNE1iH"
      },
      "source": [
        "### Baseline Random forest model with missing value"
      ]
    },
    {
      "cell_type": "code",
      "metadata": {
        "id": "3QT-C9KsE1if"
      },
      "source": [
        "##Splitting the data into train and test for training of the model\n",
        "X = df_ads[['Gender', 'Age', 'Region_Code', 'Occupation', 'Channel_Code',\n",
        "                'Vintage', 'Credit_Product', 'Avg_Account_Balance', 'Is_Active']]\n",
        "X = pd.get_dummies(X)        \n",
        "y = df_ads['Is_Lead']\n",
        "X_train, X_test, y_train, y_test = train_test_split(X, y, test_size=0.2, random_state=42)"
      ],
      "execution_count": 9,
      "outputs": []
    },
    {
      "cell_type": "code",
      "metadata": {
        "colab": {
          "base_uri": "https://localhost:8080/"
        },
        "id": "rS49z-R5E1ig",
        "outputId": "eee5f4cc-dd7c-4307-e23d-b6a788fbff4a"
      },
      "source": [
        "## Training the model\n",
        "baseline_w_missing = RandomForestClassifier(random_state=0, n_jobs =-1)\n",
        "baseline_w_missing.fit(X_train, y_train)"
      ],
      "execution_count": 10,
      "outputs": [
        {
          "output_type": "execute_result",
          "data": {
            "text/plain": [
              "RandomForestClassifier(bootstrap=True, ccp_alpha=0.0, class_weight=None,\n",
              "                       criterion='gini', max_depth=None, max_features='auto',\n",
              "                       max_leaf_nodes=None, max_samples=None,\n",
              "                       min_impurity_decrease=0.0, min_impurity_split=None,\n",
              "                       min_samples_leaf=1, min_samples_split=2,\n",
              "                       min_weight_fraction_leaf=0.0, n_estimators=100,\n",
              "                       n_jobs=-1, oob_score=False, random_state=0, verbose=0,\n",
              "                       warm_start=False)"
            ]
          },
          "metadata": {
            "tags": []
          },
          "execution_count": 10
        }
      ]
    },
    {
      "cell_type": "code",
      "metadata": {
        "colab": {
          "base_uri": "https://localhost:8080/"
        },
        "id": "HA1K-gG8E1ih",
        "outputId": "8c4ac1a9-e8f7-4a71-933f-f511250444b7"
      },
      "source": [
        "## AUC_ROC_SCORE\n",
        "y_pred_baseline_w_missing = baseline_w_missing.predict_proba(X_test)\n",
        "auc_baseline_w_missing = roc_auc_score(y_test, y_pred_baseline_w_missing[:,1])\n",
        "print(auc_baseline_w_missing)\n",
        "confusion_matrix(y_test, baseline_w_missing.predict(X_test))"
      ],
      "execution_count": 11,
      "outputs": [
        {
          "output_type": "stream",
          "text": [
            "0.8515625845427243\n"
          ],
          "name": "stdout"
        },
        {
          "output_type": "execute_result",
          "data": {
            "text/plain": [
              "array([[35061,  2459],\n",
              "       [ 4949,  6676]])"
            ]
          },
          "metadata": {
            "tags": []
          },
          "execution_count": 11
        }
      ]
    },
    {
      "cell_type": "markdown",
      "metadata": {
        "id": "X8APGfWYEFam"
      },
      "source": [
        "### Baseline Random forest model without missing value"
      ]
    },
    {
      "cell_type": "code",
      "metadata": {
        "id": "vSav90iIAZ7Z"
      },
      "source": [
        "##Splitting the data into train and test for training of the model\n",
        "X = df_ads_v1[['Gender', 'Age', 'Region_Code', 'Occupation', 'Channel_Code',\n",
        "                'Vintage', 'Credit_Product', 'Avg_Account_Balance', 'Is_Active']]\n",
        "X = pd.get_dummies(X)            \n",
        "y = df_ads_v1['Is_Lead']\n",
        "X_train, X_test, y_train, y_test = train_test_split(X, y, test_size=0.2, random_state=42)"
      ],
      "execution_count": 12,
      "outputs": []
    },
    {
      "cell_type": "code",
      "metadata": {
        "colab": {
          "base_uri": "https://localhost:8080/"
        },
        "id": "U6JHz5AAAHGM",
        "outputId": "73b0fea7-80c8-4e9d-daee-4de1c0549d39"
      },
      "source": [
        "## Training the model\n",
        "baseline_wo_missing = RandomForestClassifier(random_state=0)\n",
        "baseline_wo_missing.fit(X_train, y_train)"
      ],
      "execution_count": 13,
      "outputs": [
        {
          "output_type": "execute_result",
          "data": {
            "text/plain": [
              "RandomForestClassifier(bootstrap=True, ccp_alpha=0.0, class_weight=None,\n",
              "                       criterion='gini', max_depth=None, max_features='auto',\n",
              "                       max_leaf_nodes=None, max_samples=None,\n",
              "                       min_impurity_decrease=0.0, min_impurity_split=None,\n",
              "                       min_samples_leaf=1, min_samples_split=2,\n",
              "                       min_weight_fraction_leaf=0.0, n_estimators=100,\n",
              "                       n_jobs=None, oob_score=False, random_state=0, verbose=0,\n",
              "                       warm_start=False)"
            ]
          },
          "metadata": {
            "tags": []
          },
          "execution_count": 13
        }
      ]
    },
    {
      "cell_type": "code",
      "metadata": {
        "colab": {
          "base_uri": "https://localhost:8080/"
        },
        "id": "OiEEs_2nBg5I",
        "outputId": "c3a62116-d131-4c41-fa03-ea6e4f32f337"
      },
      "source": [
        "## AUC_ROC_SCORE\n",
        "y_pred_baseline_wo_missing = baseline_wo_missing.predict_proba(X_test)\n",
        "auc_baseline_wo_missing = roc_auc_score(y_test, y_pred_baseline_wo_missing[:,1])\n",
        "print(auc_baseline_wo_missing)\n",
        "confusion_matrix(y_test, baseline_wo_missing.predict(X_test))"
      ],
      "execution_count": 14,
      "outputs": [
        {
          "output_type": "stream",
          "text": [
            "0.7517195497168535\n"
          ],
          "name": "stdout"
        },
        {
          "output_type": "execute_result",
          "data": {
            "text/plain": [
              "array([[34348,  3172],\n",
              "       [ 7920,  3705]])"
            ]
          },
          "metadata": {
            "tags": []
          },
          "execution_count": 14
        }
      ]
    },
    {
      "cell_type": "markdown",
      "metadata": {
        "id": "xGYwcq-VS4Bk"
      },
      "source": [
        "### Tuned Random forest model with missing value"
      ]
    },
    {
      "cell_type": "code",
      "metadata": {
        "id": "FPm3RoXQS4B8"
      },
      "source": [
        "##Splitting the data into train and test for training of the model\n",
        "X = df_ads[['Gender', 'Age', 'Region_Code', 'Occupation', 'Channel_Code',\n",
        "                'Vintage', 'Credit_Product', 'Avg_Account_Balance', 'Is_Active']]\n",
        "X['Occupation_Entrepreneur_mod'] = X['Occupation'].replace({'Entrepreneur': 1, 'Salaried': 0, 'Self_Employed': 1, 'Other': 0})\n",
        "X = pd.get_dummies(X)    \n",
        "del X['Occupation_Self_Employed']        \n",
        "y = df_ads['Is_Lead']\n",
        "X_train, X_test, y_train, y_test = train_test_split(X, y, test_size=0.1, random_state=42)"
      ],
      "execution_count": 107,
      "outputs": []
    },
    {
      "cell_type": "code",
      "metadata": {
        "colab": {
          "base_uri": "https://localhost:8080/"
        },
        "id": "vpB4H7T0S4B9",
        "outputId": "ab51f3d1-632b-4da9-b294-784e6dcf218d"
      },
      "source": [
        "## Training the model\n",
        "Tuned_RF = RandomForestClassifier(max_depth=12, n_estimators=150,  random_state=0, n_jobs =-1)\n",
        "Tuned_RF.fit(X_train, y_train)"
      ],
      "execution_count": 108,
      "outputs": [
        {
          "output_type": "execute_result",
          "data": {
            "text/plain": [
              "RandomForestClassifier(bootstrap=True, ccp_alpha=0.0, class_weight=None,\n",
              "                       criterion='gini', max_depth=12, max_features='auto',\n",
              "                       max_leaf_nodes=None, max_samples=None,\n",
              "                       min_impurity_decrease=0.0, min_impurity_split=None,\n",
              "                       min_samples_leaf=1, min_samples_split=2,\n",
              "                       min_weight_fraction_leaf=0.0, n_estimators=150,\n",
              "                       n_jobs=-1, oob_score=False, random_state=0, verbose=0,\n",
              "                       warm_start=False)"
            ]
          },
          "metadata": {
            "tags": []
          },
          "execution_count": 108
        }
      ]
    },
    {
      "cell_type": "code",
      "metadata": {
        "colab": {
          "base_uri": "https://localhost:8080/"
        },
        "id": "7svZG51NS4CA",
        "outputId": "6b37afbc-bdfe-4f4f-cbca-00f1320c4aec"
      },
      "source": [
        "## AUC_ROC_SCORE\n",
        "y_pred_tune_RF = Tuned_RF.predict_proba(X_test)\n",
        "auc_tune_RF = roc_auc_score(y_test, y_pred_tune_RF[:,1])\n",
        "print(auc_tune_RF)\n",
        "confusion_matrix(y_test,  Tuned_RF.predict(X_test))\n",
        "#0.8693156148804984"
      ],
      "execution_count": 109,
      "outputs": [
        {
          "output_type": "stream",
          "text": [
            "0.8686972384617532\n"
          ],
          "name": "stdout"
        },
        {
          "output_type": "execute_result",
          "data": {
            "text/plain": [
              "array([[17876,   768],\n",
              "       [ 2771,  3158]])"
            ]
          },
          "metadata": {
            "tags": []
          },
          "execution_count": 109
        }
      ]
    },
    {
      "cell_type": "markdown",
      "metadata": {
        "id": "3j2IXZeuuQA_"
      },
      "source": [
        "### Tuned Random forest model without missing value"
      ]
    },
    {
      "cell_type": "code",
      "metadata": {
        "id": "_jxOXBrTuQBg"
      },
      "source": [
        "##Splitting the data into train and test for training of the model\n",
        "X = df_ads_v1[['Gender', 'Age', 'Region_Code', 'Occupation', 'Channel_Code',\n",
        "                'Vintage', 'Credit_Product', 'Avg_Account_Balance', 'Is_Active']]\n",
        "X = pd.get_dummies(X)            \n",
        "y = df_ads['Is_Lead']\n",
        "X_train, X_test, y_train, y_test = train_test_split(X, y, test_size=0.2, random_state=42)"
      ],
      "execution_count": 24,
      "outputs": []
    },
    {
      "cell_type": "code",
      "metadata": {
        "colab": {
          "base_uri": "https://localhost:8080/"
        },
        "id": "gPxVvpPQuQBh",
        "outputId": "819f7887-12af-41be-8856-b37c3ac6f393"
      },
      "source": [
        "## Training the model\n",
        "Tuned_RF_wo_missing = RandomForestClassifier(max_depth=10, n_estimators=150,  random_state=0, n_jobs =-1)\n",
        "Tuned_RF_wo_missing.fit(X_train, y_train)"
      ],
      "execution_count": 25,
      "outputs": [
        {
          "output_type": "execute_result",
          "data": {
            "text/plain": [
              "RandomForestClassifier(bootstrap=True, ccp_alpha=0.0, class_weight=None,\n",
              "                       criterion='gini', max_depth=10, max_features='auto',\n",
              "                       max_leaf_nodes=None, max_samples=None,\n",
              "                       min_impurity_decrease=0.0, min_impurity_split=None,\n",
              "                       min_samples_leaf=1, min_samples_split=2,\n",
              "                       min_weight_fraction_leaf=0.0, n_estimators=150,\n",
              "                       n_jobs=-1, oob_score=False, random_state=0, verbose=0,\n",
              "                       warm_start=False)"
            ]
          },
          "metadata": {
            "tags": []
          },
          "execution_count": 25
        }
      ]
    },
    {
      "cell_type": "code",
      "metadata": {
        "colab": {
          "base_uri": "https://localhost:8080/"
        },
        "id": "ggfFKBk-uQBi",
        "outputId": "a54d80fa-34c8-4987-aec3-af1540407a9d"
      },
      "source": [
        "## AUC_ROC_SCORE\n",
        "y_pred_tune_RF_wo_missng = Tuned_RF_wo_missing.predict_proba(X_test)\n",
        "auc_tune_RF_wo_missing = roc_auc_score(y_test, y_pred_tune_RF_wo_missng[:,1])\n",
        "print(auc_tune_RF_wo_missing)\n",
        "confusion_matrix(y_test,  Tuned_RF_wo_missing.predict(X_test))"
      ],
      "execution_count": 26,
      "outputs": [
        {
          "output_type": "stream",
          "text": [
            "0.779846453217782\n"
          ],
          "name": "stdout"
        },
        {
          "output_type": "execute_result",
          "data": {
            "text/plain": [
              "array([[37277,   243],\n",
              "       [10169,  1456]])"
            ]
          },
          "metadata": {
            "tags": []
          },
          "execution_count": 26
        }
      ]
    },
    {
      "cell_type": "markdown",
      "metadata": {
        "id": "k-M6KlWnF0Q7"
      },
      "source": [
        "### Random forest with treatment of imbalance data by using SMOTE"
      ]
    },
    {
      "cell_type": "code",
      "metadata": {
        "colab": {
          "base_uri": "https://localhost:8080/"
        },
        "id": "aRL06L-9F0RH",
        "outputId": "2f3a8121-0810-4095-9bd8-72ea89e7b3ad"
      },
      "source": [
        "##Splitting the data into train and test for training of the model\n",
        "X = df_ads[['Gender', 'Age', 'Region_Code', 'Occupation', 'Channel_Code',\n",
        "                'Vintage', 'Credit_Product', 'Avg_Account_Balance', 'Is_Active']]\n",
        "X = pd.get_dummies(X)            \n",
        "y = df_ads['Is_Lead']\n",
        "\n",
        "X_train, X_test, y_train, y_test = train_test_split(X, y, test_size=0.15, random_state=42)\n",
        "\n",
        "print(\"Total rows\", len(X_train))\n",
        "counter = Counter(y_train)\n",
        "print(counter)\n",
        "\n",
        "oversample = SMOTE()\n",
        "X_train, y_train = oversample.fit_resample(X_train, y_train)\n",
        "\n",
        "print(\"Oversample treated\")\n",
        "print(\"New Total number of rows\", len(X_train))\n",
        "counter = Counter(y_train)\n",
        "print(counter)"
      ],
      "execution_count": 29,
      "outputs": [
        {
          "output_type": "stream",
          "text": [
            "Total rows 208866\n",
            "Counter({0: 159307, 1: 49559})\n",
            "Oversample treated\n",
            "New Total number of rows 318614\n",
            "Counter({1: 159307, 0: 159307})\n"
          ],
          "name": "stdout"
        }
      ]
    },
    {
      "cell_type": "code",
      "metadata": {
        "colab": {
          "base_uri": "https://localhost:8080/"
        },
        "id": "JbppueuIF0RH",
        "outputId": "8679e449-dda2-45c9-8d0a-c08120d88093"
      },
      "source": [
        "## Training the model\n",
        "RF_smote = RandomForestClassifier(max_depth=10, n_estimators=150,  random_state=0, n_jobs =-1)\n",
        "RF_smote.fit(X_train, y_train)"
      ],
      "execution_count": 30,
      "outputs": [
        {
          "output_type": "execute_result",
          "data": {
            "text/plain": [
              "RandomForestClassifier(bootstrap=True, ccp_alpha=0.0, class_weight=None,\n",
              "                       criterion='gini', max_depth=10, max_features='auto',\n",
              "                       max_leaf_nodes=None, max_samples=None,\n",
              "                       min_impurity_decrease=0.0, min_impurity_split=None,\n",
              "                       min_samples_leaf=1, min_samples_split=2,\n",
              "                       min_weight_fraction_leaf=0.0, n_estimators=150,\n",
              "                       n_jobs=-1, oob_score=False, random_state=0, verbose=0,\n",
              "                       warm_start=False)"
            ]
          },
          "metadata": {
            "tags": []
          },
          "execution_count": 30
        }
      ]
    },
    {
      "cell_type": "code",
      "metadata": {
        "colab": {
          "base_uri": "https://localhost:8080/"
        },
        "id": "ezzvqPZmF0RH",
        "outputId": "a6b57b6c-9d89-4ace-9384-bdf8e3ecaa9f"
      },
      "source": [
        "## AUC_ROC_SCORE\n",
        "y_pred_smote = RF_smote.predict_proba(X_test)\n",
        "auc_smote = roc_auc_score(y_test, y_pred_smote[:,1])\n",
        "print(auc_smote)\n",
        "confusion_matrix(y_test, RF_smote.predict(X_test))"
      ],
      "execution_count": 31,
      "outputs": [
        {
          "output_type": "stream",
          "text": [
            "0.866273195122868\n"
          ],
          "name": "stdout"
        },
        {
          "output_type": "execute_result",
          "data": {
            "text/plain": [
              "array([[25363,  2767],\n",
              "       [ 2879,  5850]])"
            ]
          },
          "metadata": {
            "tags": []
          },
          "execution_count": 31
        }
      ]
    },
    {
      "cell_type": "markdown",
      "metadata": {
        "id": "-kVq45JrCD_H"
      },
      "source": [
        "### XGboost tuned"
      ]
    },
    {
      "cell_type": "code",
      "metadata": {
        "id": "XvMkP5U0CD_T"
      },
      "source": [
        "##Splitting the data into train and test for training of the model\n",
        "X = df_ads[['Gender', 'Age', 'Region_Code', 'Occupation', 'Channel_Code',\n",
        "                'Vintage', 'Credit_Product', 'Avg_Account_Balance', 'Is_Active']]\n",
        "X = pd.get_dummies(X)            \n",
        "y = df_ads['Is_Lead']\n",
        "X_train, X_test, y_train, y_test = train_test_split(X, y, test_size=0.2, random_state=42)"
      ],
      "execution_count": 32,
      "outputs": []
    },
    {
      "cell_type": "code",
      "metadata": {
        "colab": {
          "base_uri": "https://localhost:8080/"
        },
        "id": "7983mvkkCD_U",
        "outputId": "59e47cb8-3d91-4f7d-f365-1434b629e95d"
      },
      "source": [
        "## Training the model\n",
        "XGB_tuned = XGBClassifier(max_depth  = 11,  learning_rate = 0.3,  random_state=0, n_jobs=-1, min_child_weight=2, n_estimators=150)\n",
        "XGB_tuned.fit(X_train, y_train)"
      ],
      "execution_count": 45,
      "outputs": [
        {
          "output_type": "execute_result",
          "data": {
            "text/plain": [
              "XGBClassifier(base_score=0.5, booster='gbtree', colsample_bylevel=1,\n",
              "              colsample_bynode=1, colsample_bytree=1, gamma=0,\n",
              "              learning_rate=0.3, max_delta_step=0, max_depth=11,\n",
              "              min_child_weight=2, missing=None, n_estimators=150, n_jobs=-1,\n",
              "              nthread=None, objective='binary:logistic', random_state=0,\n",
              "              reg_alpha=0, reg_lambda=1, scale_pos_weight=1, seed=None,\n",
              "              silent=None, subsample=1, verbosity=1)"
            ]
          },
          "metadata": {
            "tags": []
          },
          "execution_count": 45
        }
      ]
    },
    {
      "cell_type": "code",
      "metadata": {
        "colab": {
          "base_uri": "https://localhost:8080/"
        },
        "id": "31y3Ly2cCD_V",
        "outputId": "37553e74-d94f-497b-b440-64b69124be06"
      },
      "source": [
        "## AUC_ROC_SCORE\n",
        "y_pred_xgb = XGB_tuned.predict_proba(X_test)\n",
        "auc_xgb = roc_auc_score(y_test, y_pred_xgb[:,1])\n",
        "print(auc_xgb)\n",
        "confusion_matrix(y_test, XGB_tuned.predict(X_test))"
      ],
      "execution_count": 46,
      "outputs": [
        {
          "output_type": "stream",
          "text": [
            "0.8605598963706811\n"
          ],
          "name": "stdout"
        },
        {
          "output_type": "execute_result",
          "data": {
            "text/plain": [
              "array([[35424,  2096],\n",
              "       [ 4990,  6635]])"
            ]
          },
          "metadata": {
            "tags": []
          },
          "execution_count": 46
        }
      ]
    },
    {
      "cell_type": "markdown",
      "metadata": {
        "id": "Mh777yXiKR5w"
      },
      "source": [
        "### XGboost with treatment of imbalance data by using SMOTE"
      ]
    },
    {
      "cell_type": "code",
      "metadata": {
        "colab": {
          "base_uri": "https://localhost:8080/"
        },
        "id": "3sEOUdMMKR58",
        "outputId": "4169b4fa-d499-4e13-8d85-462b7a328b5c"
      },
      "source": [
        "##Splitting the data into train and test for training of the model\n",
        "X = df_ads[['Gender', 'Age', 'Region_Code', 'Occupation', 'Channel_Code',\n",
        "                'Vintage', 'Credit_Product', 'Avg_Account_Balance', 'Is_Active']]\n",
        "X = pd.get_dummies(X)            \n",
        "y = df_ads['Is_Lead']\n",
        "\n",
        "X_train, X_test, y_train, y_test = train_test_split(X, y, test_size=0.2, random_state=42)\n",
        "\n",
        "print(\"Total rows\", len(X_train))\n",
        "counter = Counter(y_train)\n",
        "print(counter)\n",
        "\n",
        "oversample = SMOTE()\n",
        "X_train, y_train = oversample.fit_resample(X_train, y_train)\n",
        "\n",
        "print(\"Oversample treated\")\n",
        "print(\"New Total number of rows\", len(X_train))\n",
        "counter = Counter(y_train)\n",
        "print(counter)"
      ],
      "execution_count": 48,
      "outputs": [
        {
          "output_type": "stream",
          "text": [
            "Total rows 196580\n",
            "Counter({0: 149917, 1: 46663})\n",
            "Oversample treated\n",
            "New Total number of rows 299834\n",
            "Counter({0: 149917, 1: 149917})\n"
          ],
          "name": "stdout"
        }
      ]
    },
    {
      "cell_type": "code",
      "metadata": {
        "colab": {
          "base_uri": "https://localhost:8080/"
        },
        "id": "XdIWiPTlKR59",
        "outputId": "8d5b171a-fe5b-4e02-fe7e-2f0d9f4f44a3"
      },
      "source": [
        "## Training the model\n",
        "XGB_smote = XGBClassifier(max_depth  = 11,  learning_rate = 0.3, base_score=0.4,  random_state=0, n_jobs=-1, n_estimators=150)\n",
        "XGB_smote.fit(X_train, y_train)"
      ],
      "execution_count": 60,
      "outputs": [
        {
          "output_type": "execute_result",
          "data": {
            "text/plain": [
              "XGBClassifier(base_score=0.4, booster='gbtree', colsample_bylevel=1,\n",
              "              colsample_bynode=1, colsample_bytree=1, gamma=0,\n",
              "              learning_rate=0.3, max_delta_step=0, max_depth=11,\n",
              "              min_child_weight=1, missing=None, n_estimators=150, n_jobs=-1,\n",
              "              nthread=None, objective='binary:logistic', random_state=0,\n",
              "              reg_alpha=0, reg_lambda=1, scale_pos_weight=1, seed=None,\n",
              "              silent=None, subsample=1, verbosity=1)"
            ]
          },
          "metadata": {
            "tags": []
          },
          "execution_count": 60
        }
      ]
    },
    {
      "cell_type": "code",
      "metadata": {
        "colab": {
          "base_uri": "https://localhost:8080/"
        },
        "id": "s54lJ91EKR59",
        "outputId": "55c25108-d383-4691-b7bf-6336c2766fe4"
      },
      "source": [
        "## AUC_ROC_SCORE\n",
        "y_pred_xgbsmote = XGB_smote.predict_proba(X_test.values)\n",
        "auc_xgbsmote = roc_auc_score(y_test, y_pred_xgbsmote[:,1])\n",
        "print(auc_xgbsmote)\n",
        "confusion_matrix(y_test, XGB_smote.predict(X_test.values))"
      ],
      "execution_count": 61,
      "outputs": [
        {
          "output_type": "stream",
          "text": [
            "0.8583911857761881\n"
          ],
          "name": "stdout"
        },
        {
          "output_type": "execute_result",
          "data": {
            "text/plain": [
              "array([[35295,  2225],\n",
              "       [ 4989,  6636]])"
            ]
          },
          "metadata": {
            "tags": []
          },
          "execution_count": 61
        }
      ]
    },
    {
      "cell_type": "markdown",
      "metadata": {
        "id": "Ywf4D_4Wzt8t"
      },
      "source": [
        "### Hyperparameter Optimization RF"
      ]
    },
    {
      "cell_type": "code",
      "metadata": {
        "id": "u5FdVs3b0kAG"
      },
      "source": [
        "##Splitting the data into train and test for training of the model\n",
        "X = df_ads[['Gender', 'Age', 'Region_Code', 'Occupation', 'Channel_Code',\n",
        "                'Vintage', 'Credit_Product', 'Avg_Account_Balance', 'Is_Active']]\n",
        "X = pd.get_dummies(X)            \n",
        "y = df_ads['Is_Lead']\n",
        "X_train, X_test, y_train, y_test = train_test_split(X, y, test_size=0.2, random_state=42)"
      ],
      "execution_count": 85,
      "outputs": []
    },
    {
      "cell_type": "code",
      "metadata": {
        "id": "Po5_ZyOrz0jh"
      },
      "source": [
        "# Create the parameter grid based on the results of random search \n",
        "param_grid = {\n",
        "    'bootstrap': [True],\n",
        "    'criterion' : ['gini','entropy'],\n",
        "    'max_depth': [80, 100, 110],\n",
        "    'max_features': [2, 3],\n",
        "    'min_samples_leaf': [1, 3, 4],\n",
        "    'min_samples_split': [2, 8, 10],\n",
        "    'n_estimators': [300, 1000]\n",
        "}\n",
        "\n",
        "\n",
        "# Create a based model\n",
        "rf = RandomForestClassifier()\n",
        "# Instantiate the random search model\n",
        "random_search_RF = RandomizedSearchCV(estimator = rf, param_distributions  = param_grid, n_iter = 100, scoring = 'roc_auc',\n",
        "                          cv = 2, n_jobs = -1, verbose = 2)\n"
      ],
      "execution_count": 90,
      "outputs": []
    },
    {
      "cell_type": "code",
      "metadata": {
        "colab": {
          "base_uri": "https://localhost:8080/"
        },
        "id": "Dy3279-R0vld",
        "outputId": "a269de0e-983b-44b8-a703-7c1d97fcc3ed"
      },
      "source": [
        "# Fit the grid search to the data\n",
        "random_search_RF.fit(X_train, y_train)\n",
        "random_search_RF.best_params_"
      ],
      "execution_count": 91,
      "outputs": [
        {
          "output_type": "stream",
          "text": [
            "Fitting 2 folds for each of 100 candidates, totalling 200 fits\n"
          ],
          "name": "stdout"
        },
        {
          "output_type": "stream",
          "text": [
            "[Parallel(n_jobs=-1)]: Using backend LokyBackend with 2 concurrent workers.\n",
            "[Parallel(n_jobs=-1)]: Done  37 tasks      | elapsed: 35.8min\n",
            "[Parallel(n_jobs=-1)]: Done 158 tasks      | elapsed: 161.9min\n",
            "[Parallel(n_jobs=-1)]: Done 200 out of 200 | elapsed: 197.9min finished\n"
          ],
          "name": "stderr"
        },
        {
          "output_type": "execute_result",
          "data": {
            "text/plain": [
              "{'bootstrap': True,\n",
              " 'criterion': 'gini',\n",
              " 'max_depth': 80,\n",
              " 'max_features': 3,\n",
              " 'min_samples_leaf': 4,\n",
              " 'min_samples_split': 10,\n",
              " 'n_estimators': 1000}"
            ]
          },
          "metadata": {
            "tags": []
          },
          "execution_count": 91
        }
      ]
    },
    {
      "cell_type": "code",
      "metadata": {
        "colab": {
          "base_uri": "https://localhost:8080/"
        },
        "id": "A7vJ4FVH1IaJ",
        "outputId": "ebeea4cf-f655-409c-bad3-6a990f720068"
      },
      "source": [
        "## Training the model\n",
        "rs_RF = RandomForestClassifier(**random_search_RF.best_params_, random_state=42)\n",
        "rs_RF.fit(X_train, y_train)"
      ],
      "execution_count": 92,
      "outputs": [
        {
          "output_type": "execute_result",
          "data": {
            "text/plain": [
              "RandomForestClassifier(bootstrap=True, ccp_alpha=0.0, class_weight=None,\n",
              "                       criterion='gini', max_depth=80, max_features=3,\n",
              "                       max_leaf_nodes=None, max_samples=None,\n",
              "                       min_impurity_decrease=0.0, min_impurity_split=None,\n",
              "                       min_samples_leaf=4, min_samples_split=10,\n",
              "                       min_weight_fraction_leaf=0.0, n_estimators=1000,\n",
              "                       n_jobs=None, oob_score=False, random_state=42, verbose=0,\n",
              "                       warm_start=False)"
            ]
          },
          "metadata": {
            "tags": []
          },
          "execution_count": 92
        }
      ]
    },
    {
      "cell_type": "code",
      "metadata": {
        "colab": {
          "base_uri": "https://localhost:8080/"
        },
        "id": "tcaKnAFgx9Ui",
        "outputId": "509e50e6-5f33-44cd-f1dd-2b30999ed330"
      },
      "source": [
        "## AUC_ROC_SCORE\n",
        "y_pred_RF = rs_RF.predict_proba(X_test.values)\n",
        "auc_RF = roc_auc_score(y_test, y_pred_RF[:,1])\n",
        "print(auc_RF)"
      ],
      "execution_count": 62,
      "outputs": [
        {
          "output_type": "stream",
          "text": [
            "0.8672998876584816\n"
          ],
          "name": "stdout"
        }
      ]
    },
    {
      "cell_type": "markdown",
      "metadata": {
        "id": "xms3ZM08Nzl_"
      },
      "source": [
        "### RF with Feature Engineering"
      ]
    },
    {
      "cell_type": "code",
      "metadata": {
        "id": "-tDy2BzjNvL-"
      },
      "source": [
        "from statsmodels.stats.outliers_influence import variance_inflation_factor\n",
        "\n",
        "def calc_vif(X):\n",
        "\n",
        "    # Calculating VIF\n",
        "    vif = pd.DataFrame()\n",
        "    vif[\"variables\"] = X.columns\n",
        "    vif[\"VIF\"] = [variance_inflation_factor(X.values, i) for i in range(X.shape[1])]\n",
        "\n",
        "    return(vif)\n",
        "\n",
        "\n",
        "df_vif = X.iloc[:,:-1]\n",
        "calc_vif(df_vif)"
      ],
      "execution_count": 98,
      "outputs": []
    },
    {
      "cell_type": "code",
      "metadata": {
        "colab": {
          "base_uri": "https://localhost:8080/",
          "height": 338
        },
        "id": "JgZJEbcAUMzG",
        "outputId": "52ace71b-8272-4d28-8f43-9def4a378acb"
      },
      "source": [
        "sns.heatmap(X[['Age','Vintage', 'Avg_Account_Balance']].corr(), vmin=-1, vmax=1, annot=True)"
      ],
      "execution_count": 99,
      "outputs": [
        {
          "output_type": "execute_result",
          "data": {
            "text/plain": [
              "<matplotlib.axes._subplots.AxesSubplot at 0x7f5e28ad8790>"
            ]
          },
          "metadata": {
            "tags": []
          },
          "execution_count": 99
        },
        {
          "output_type": "display_data",
          "data": {
            "image/png": "[encoded data removed]",
            "text/plain": [
              "<Figure size 432x288 with 2 Axes>"
            ]
          },
          "metadata": {
            "tags": [],
            "needs_background": "light"
          }
        }
      ]
    },
    {
      "cell_type": "code",
      "metadata": {
        "colab": {
          "base_uri": "https://localhost:8080/",
          "height": 574
        },
        "id": "HKE8OBdyVEi0",
        "outputId": "48a6e6ec-48f5-4642-ea2d-1d942e4c3d01"
      },
      "source": [
        "plt.figure(figsize=[24,7])\n",
        "corr_df = X[['Gender_Female', 'Gender_Male', 'Occupation_Entrepreneur',\n",
        "              'Occupation_Other', 'Occupation_Salaried', 'Occupation_Self_Employed',\n",
        "              'Channel_Code_X1', 'Channel_Code_X2', 'Channel_Code_X3',\n",
        "              'Channel_Code_X4', 'Credit_Product_No', 'Credit_Product_Yes',\n",
        "              'Is_Active_No', 'Is_Active_Yes' ]]\n",
        "corr_df['Is_Lead']  = y\n",
        "sns.heatmap(corr_df.corr(), vmin=-1, vmax=1, annot=True)"
      ],
      "execution_count": 63,
      "outputs": [
        {
          "output_type": "execute_result",
          "data": {
            "text/plain": [
              "<matplotlib.axes._subplots.AxesSubplot at 0x7fafdbbe0b50>"
            ]
          },
          "metadata": {
            "tags": []
          },
          "execution_count": 63
        },
        {
          "output_type": "display_data",
          "data": {
            "image/png": "[encoded data removed]",
            "text/plain": [
              "<Figure size 1728x504 with 2 Axes>"
            ]
          },
          "metadata": {
            "tags": [],
            "needs_background": "light"
          }
        }
      ]
    },
    {
      "cell_type": "code",
      "metadata": {
        "id": "mh6AzxtfqEOI"
      },
      "source": [
        "def min_max_scaler(variable_to):\n",
        "  min_var = variable_to.min()\n",
        "  max_var = variable_to.max()\n",
        "  denom = float(max_var) - float(min_var)\n",
        "  y = (variable_to - min_var)/denom\n",
        "  return y"
      ],
      "execution_count": 64,
      "outputs": []
    },
    {
      "cell_type": "code",
      "metadata": {
        "colab": {
          "base_uri": "https://localhost:8080/"
        },
        "id": "o4SKvxZuj9Fm",
        "outputId": "8a4270a6-d378-4a3c-e18c-baa7ebf15a5e"
      },
      "source": [
        "df_ads_v2 = df_ads[:]\n",
        "df_ads_v2 = df_ads_v2.replace({'Female': 1, 'Male': 0})\n",
        "df_region = df_ads_v2.groupby(['Region_Code'], as_index = False).agg({'Gender':'sum', 'ID':'count', 'Age':'mean', 'Avg_Account_Balance':'mean',\n",
        "                                                          'Vintage': 'mean'})\n",
        "df_region.columns = ['Region_Code','Region_Code_total_female','Region_Code_total_sum','Region_Code_AvgAge','Region_Code_avg_account_bal','Region_Code_avg_vintage']\n",
        "\n",
        "def add_feature(group):\n",
        "  group['Region_Code_total_entrepreneur'] = len(group[group.Occupation == 'Entrepreneur'])\n",
        "  group['Region_Code_total_Salaried'] = len(group[group.Occupation == 'Salaried'])\n",
        "  group['Region_Code_total_Self_Employed'] = len(group[group.Occupation == 'Self_Employed'])\n",
        "  group['Region_Code_total_Other'] = len(group[group.Occupation == 'Other'])\n",
        "  return group\n",
        "\n",
        "df_region_2 = df_ads_v2.groupby(['Region_Code'], as_index = False).apply(add_feature)\n",
        "\n",
        "df_ads_v2 = pd.merge(df_region_2, df_region, on = ['Region_Code'], how = 'left')\n",
        "\n",
        "df_occupation = df_ads_v2.groupby(['Occupation'], as_index = False).agg({'ID':'count','Gender':'sum', 'Age':'mean', 'Avg_Account_Balance':'mean','Vintage': 'mean'})\n",
        "df_occupation.columns = ['Occupation','Occupation_count','Occupation_total_female','Occupation_age','Occupation_avg_account_balance','Occupation_Vintage']\n",
        " \n",
        " \n",
        "df_ads_v2 = pd.merge(df_ads_v2, df_occupation, on = ['Occupation'], how = 'left')\n",
        "\n",
        "df_Channel_Code = df_ads_v2.groupby(['Channel_Code'], as_index = False).agg({'ID':'count','Gender':'sum', 'Age':'mean', 'Avg_Account_Balance':'mean','Vintage': 'mean'})\n",
        "df_Channel_Code.columns = ['Channel_Code','Channel_Code_count','Channel_Code_total_female','Channel_Code_age','Channel_Code_avg_account_balance','Channel_Code_Vintage']\n",
        "\n",
        "df_ads_v2 = pd.merge(df_ads_v2, df_Channel_Code, on = ['Channel_Code'], how = 'left')\n",
        "df_ads_v2.columns"
      ],
      "execution_count": 6,
      "outputs": [
        {
          "output_type": "execute_result",
          "data": {
            "text/plain": [
              "Index(['ID', 'Gender', 'Age', 'Region_Code', 'Occupation', 'Channel_Code',\n",
              "       'Vintage', 'Credit_Product', 'Avg_Account_Balance', 'Is_Active',\n",
              "       'Is_Lead', 'Region_Code_total_entrepreneur',\n",
              "       'Region_Code_total_Salaried', 'Region_Code_total_Self_Employed',\n",
              "       'Region_Code_total_Other', 'Region_Code_total_female',\n",
              "       'Region_Code_total_sum', 'Region_Code_AvgAge',\n",
              "       'Region_Code_avg_account_bal', 'Region_Code_avg_vintage',\n",
              "       'Occupation_count', 'Occupation_total_female', 'Occupation_age',\n",
              "       'Occupation_avg_account_balance', 'Occupation_Vintage',\n",
              "       'Channel_Code_count', 'Channel_Code_total_female', 'Channel_Code_age',\n",
              "       'Channel_Code_avg_account_balance', 'Channel_Code_Vintage'],\n",
              "      dtype='object')"
            ]
          },
          "metadata": {
            "tags": []
          },
          "execution_count": 6
        }
      ]
    },
    {
      "cell_type": "code",
      "metadata": {
        "id": "XvnHqRt8oj9B"
      },
      "source": [
        "##Splitting the data into train and test for training of the model\n",
        "X = df_ads_v2[[ 'Gender', 'Age', 'Region_Code', 'Occupation', 'Channel_Code',\n",
        "       'Vintage', 'Credit_Product', 'Avg_Account_Balance', 'Is_Active', 'Region_Code_total_entrepreneur',\n",
        "       'Region_Code_total_Salaried', 'Region_Code_total_Self_Employed',\n",
        "       'Region_Code_total_Other', 'Region_Code_total_female',\n",
        "       'Region_Code_total_sum', 'Region_Code_AvgAge',\n",
        "       'Region_Code_avg_account_bal', 'Region_Code_avg_vintage',\n",
        "       'Occupation_count', 'Occupation_total_female', 'Occupation_age',\n",
        "       'Occupation_avg_account_balance', 'Occupation_Vintage',\n",
        "       'Channel_Code_count', 'Channel_Code_total_female', 'Channel_Code_age',\n",
        "       'Channel_Code_avg_account_balance', 'Channel_Code_Vintage']]\n",
        "\n",
        "X = pd.get_dummies(X)         \n",
        "\n",
        "y = df_ads_v2['Is_Lead']\n",
        "X_train, X_test, y_train, y_test = train_test_split(X, y, test_size=0.2, random_state=42)"
      ],
      "execution_count": 39,
      "outputs": []
    },
    {
      "cell_type": "code",
      "metadata": {
        "colab": {
          "base_uri": "https://localhost:8080/"
        },
        "id": "9y-dbrJD3Rcx",
        "outputId": "61380e50-a18b-4c7a-eeff-6af0b81e3b9b"
      },
      "source": [
        "## Training the model\n",
        "rs_RF_opt_v1 = RandomForestClassifier(bootstrap=True,max_features = 10, max_depth=12, n_estimators=150,  random_state=0,n_jobs =-1)\n",
        "rs_RF_opt_v1.fit(X_train, y_train)\n",
        "\n",
        "## AUC_ROC_SCORE\n",
        "y_pred_RF = rs_RF_opt_v1.predict_proba(X_test.values)\n",
        "auc_RF_fe = roc_auc_score(y_test, y_pred_RF[:,1])\n",
        "print(auc_RF_fe)"
      ],
      "execution_count": 18,
      "outputs": [
        {
          "output_type": "stream",
          "text": [
            "0.8691899167755692\n"
          ],
          "name": "stdout"
        }
      ]
    },
    {
      "cell_type": "code",
      "metadata": {
        "id": "mnm_9Kklr9aR"
      },
      "source": [
        ""
      ],
      "execution_count": 24,
      "outputs": []
    },
    {
      "cell_type": "markdown",
      "metadata": {
        "id": "vHVqshpZ5NKJ"
      },
      "source": [
        "### Light GBM"
      ]
    },
    {
      "cell_type": "code",
      "metadata": {
        "colab": {
          "base_uri": "https://localhost:8080/"
        },
        "id": "uYK30JQbrxkx",
        "outputId": "206e2ea6-49d9-4476-b562-c35339c8c20a"
      },
      "source": [
        "params={'lambda': 3, \n",
        "        'alpha': 0.001, \n",
        "        'colsample_bytree': 0.5, \n",
        "        'subsample': 0.4, \n",
        "        'learning_rate': 0.3, \n",
        "        'max_depth': 13, \n",
        "        'random_state': 24,\n",
        "        'min_child_weight': 5}\n",
        "err = [] \n",
        "\n",
        "oob = np.zeros(shape=(len(X)))\n",
        "preds_lgbm = np.zeros(shape=(len(df_testv1)))\n",
        "\n",
        "Folds=8\n",
        "fold = StratifiedKFold(n_splits=Folds, shuffle=True, random_state=2020)\n",
        "i = 1\n",
        "\n",
        "for train_index, test_index in fold.split(X, y):\n",
        "    x_train, x_val = X.iloc[train_index], X.iloc[test_index]\n",
        "    y_train, y_val = y.iloc[train_index], y.iloc[test_index]\n",
        "\n",
        "    m = LGBMClassifier(n_estimators=1000,**params,verbose= -1)\n",
        "\n",
        "    m.fit(x_train, y_train,eval_set=[(x_val, y_val)], early_stopping_rounds=30,verbose=False,eval_metric='auc')\n",
        "\n",
        "    pred_y = m.predict_proba(x_val)[:,1]\n",
        "    oofs[test_index] = pred_y\n",
        "    print(i, \" roc_auc_Score: \", roc_auc_score(y_val,pred_y))\n",
        "    err.append(roc_auc_score(y_val,pred_y))\n",
        "    preds_lgbm+= m.predict_proba(df_testv1)[:,1]\n",
        "    i = i + 1\n",
        "preds_lgbm = preds_lgbm/Folds\n",
        "print(f\"Average StratifiedKFold Score : {sum(err)/Folds} \")\n",
        "oof_score = roc_auc_score(y, oofs)\n",
        "print(f'\\nOut of Bag Auc is : {oof_score}')\n",
        "\n",
        "preds_lgbm=pd.DataFrame(preds_lgbm,columns=['Is_Lead'])\n",
        "\n",
        "# oofs.to_csv('lgbmoof.csv',index=False)\n",
        "# preds.to_csv('lgbmpred.csv',index=False)"
      ],
      "execution_count": 70,
      "outputs": [
        {
          "output_type": "stream",
          "text": [
            "1  roc_auc_Score:  0.8738408917809504\n",
            "2  roc_auc_Score:  0.8736182406076047\n",
            "3  roc_auc_Score:  0.8723846790639946\n",
            "4  roc_auc_Score:  0.8725521375367888\n",
            "5  roc_auc_Score:  0.877344480126586\n",
            "6  roc_auc_Score:  0.8743079924210662\n",
            "7  roc_auc_Score:  0.8734289487607692\n",
            "8  roc_auc_Score:  0.874174067375484\n",
            "Average StratifiedKFold Score : 0.8739564297091555 \n",
            "\n",
            "Out of Bag Auc is : 0.8738314469214772\n"
          ],
          "name": "stdout"
        }
      ]
    },
    {
      "cell_type": "code",
      "metadata": {
        "colab": {
          "base_uri": "https://localhost:8080/"
        },
        "id": "GNs4-Js40ZgQ",
        "outputId": "ed0ccb87-468b-49ac-c51c-bc3400242fea"
      },
      "source": [
        " params={'lambda': 1.5, \n",
        "        'alpha': 0.4, \n",
        "        'colsample_bytree': 0.7, \n",
        "        'subsample': 0.8, \n",
        "        'learning_rate': 0.3,\n",
        "        'max_depth': 9, \n",
        "        'random_state': 20, \n",
        "        'min_child_weight': 30}\n",
        "\n",
        "preds_xgb = np.zeros(shape=(len(df_testv1)))   \n",
        "err = [] \n",
        "\n",
        "oofs = np.zeros(shape=(len(X)))\n",
        "\n",
        "Folds=8\n",
        "\n",
        "fold = StratifiedKFold(n_splits=Folds, shuffle=True, random_state=2020)\n",
        "i = 1\n",
        "\n",
        "for train_index, test_index in fold.split(X, y):\n",
        "    x_train, x_val = X.iloc[train_index], X.iloc[test_index]\n",
        "    y_train, y_val = y.iloc[train_index], y.iloc[test_index]\n",
        "\n",
        "    m = XGBClassifier(n_estimators=600,**params)\n",
        "\n",
        "    m.fit(x_train, y_train,eval_set=[(x_val, y_val)], early_stopping_rounds=30,verbose=False,eval_metric='auc')\n",
        "\n",
        "    pred_y = m.predict_proba(x_val)[:,1]\n",
        "    oofs[test_index] = pred_y\n",
        "    print(i, \" roc_auc_score: \", roc_auc_score(y_val,pred_y))\n",
        "    err.append(roc_auc_score(y_val,pred_y))\n",
        "    preds_xgb+= m.predict_proba(df_testv1)[:,1]\n",
        "    i = i + 1\n",
        "\n",
        "preds_xgb = preds_xgb/Folds\n",
        "print(f\"Average StratifiedKFold Score : {sum(err)/Folds} \")\n",
        "oof_score = roc_auc_score(y, oofs)\n",
        "print(f'\\nOut of bag Auc is : {oof_score}')\n",
        "    \n",
        "preds_xgb=pd.DataFrame(preds_xgb,columns=['Is_Lead'])\n"
      ],
      "execution_count": 77,
      "outputs": [
        {
          "output_type": "stream",
          "text": [
            "1  roc_auc_score:  0.8731190811510776\n",
            "2  roc_auc_score:  0.8739199698812579\n",
            "3  roc_auc_score:  0.8726339161077981\n",
            "4  roc_auc_score:  0.871873557869564\n",
            "5  roc_auc_score:  0.8764888263191976\n",
            "6  roc_auc_score:  0.8742232139393539\n",
            "7  roc_auc_score:  0.8728013407841075\n",
            "8  roc_auc_score:  0.8735108714167603\n",
            "Average StratifiedKFold Score : 0.8735713471836396 \n",
            "\n",
            "Out of bag Auc is : 0.8675863748834304\n"
          ],
          "name": "stdout"
        }
      ]
    },
    {
      "cell_type": "code",
      "metadata": {
        "id": "xC3prh3b9V_Y"
      },
      "source": [
        "y_pred = (preds_xgb + preds_lgbm)/2"
      ],
      "execution_count": 82,
      "outputs": []
    },
    {
      "cell_type": "code",
      "metadata": {
        "id": "HEf8C4ugzlv-"
      },
      "source": [
        "y_pred = y_pred\n",
        "df_submission = df_test[['ID']]\n",
        "df_submission['Is_Lead'] = y_pred\n",
        "df_submission.to_csv(\"/content/drive/MyDrive/Colab Notebooks/submission_lgbm_xgb_ensemble.csv\", index=False)"
      ],
      "execution_count": 86,
      "outputs": []
    },
    {
      "cell_type": "markdown",
      "metadata": {
        "id": "jaSQk7cvvwRw"
      },
      "source": [
        "## Summary of models"
      ]
    },
    {
      "cell_type": "code",
      "metadata": {
        "colab": {
          "base_uri": "https://localhost:8080/",
          "height": 599
        },
        "id": "ffwEojEPvzdE",
        "outputId": "66c303a1-5381-4802-8c7c-9a49389df113"
      },
      "source": [
        "df_result = pd.DataFrame(columns=['Model_Name','ROC_AUC_Score'])\n",
        "df_result['Model_Name'] = ['Baseline RF w missing values','Baseline RF wo missing values',\n",
        "                           'Tuned RF w missing values', 'Tuned RF wo missing values',\n",
        "                           'Tuned RF w missing values SMOTE', 'Xgboost w missing values SMOTE',\n",
        "                           'Tuned Xgboost', 'Hyperparameter Optm RF', 'Feature_eng RF', 'LightGBM']\n",
        "df_result['ROC_AUC_Score'] = [auc_baseline_w_missing, auc_baseline_wo_missing,\n",
        "                              auc_tune_RF, auc_tune_RF_wo_missing,\n",
        "                              auc_smote, auc_xgbsmote, auc_xgb, auc_RF, auc_RF_opt,\n",
        "                              oof_score]\n",
        "plt.figure(figsize=[24,7])                              \n",
        "sns.barplot( df_result['Model_Name'], df_result['ROC_AUC_Score']) \n",
        "plt.ylim(0.75,)\n",
        "# Get current axis on current figure\n",
        "ax = plt.gca()\n",
        "plt.xticks(rotation = 'vertical')\n",
        "\n",
        "# Or use degrees explicitly \n",
        "\n",
        "degrees = 70  # Adjust according to one's preferences/needs\n",
        "plt.xticks(rotation=degrees)\n",
        "# Iterate through the list of axes' patches\n",
        "for p in ax.patches:\n",
        "    ax.text(p.get_x() + p.get_width()/2., 0.5*(p.get_height() + 0.8) , '%.3f' % float(p.get_height()), \n",
        "            fontsize=12, color='black', ha='center', va='bottom')\n",
        "plt.plot()\n",
        "plt.show()                             "
      ],
      "execution_count": 67,
      "outputs": [
        {
          "output_type": "display_data",
          "data": {
            "image/png": "[encoded data removed]",
            "text/plain": [
              "<Figure size 1728x504 with 1 Axes>"
            ]
          },
          "metadata": {
            "tags": [],
            "needs_background": "light"
          }
        }
      ]
    },
    {
      "cell_type": "markdown",
      "metadata": {
        "id": "g8MnDMNZSNRA"
      },
      "source": [
        "## Prediction"
      ]
    },
    {
      "cell_type": "code",
      "metadata": {
        "colab": {
          "base_uri": "https://localhost:8080/",
          "height": 204
        },
        "id": "3CnlgrYdSQBZ",
        "outputId": "6e77c058-77a9-4cdb-eb32-7f2b2ce9a3ec"
      },
      "source": [
        "df_test = pd.read_csv(\"/content/drive/MyDrive/Colab Notebooks/test_mSzZ8RL.csv\")\n",
        "df_test.head()"
      ],
      "execution_count": 16,
      "outputs": [
        {
          "output_type": "execute_result",
          "data": {
            "text/html": [
              "<div>\n",
              "<style scoped>\n",
              "    .dataframe tbody tr th:only-of-type {\n",
              "        vertical-align: middle;\n",
              "    }\n",
              "\n",
              "    .dataframe tbody tr th {\n",
              "        vertical-align: top;\n",
              "    }\n",
              "\n",
              "    .dataframe thead th {\n",
              "        text-align: right;\n",
              "    }\n",
              "</style>\n",
              "<table border=\"1\" class=\"dataframe\">\n",
              "  <thead>\n",
              "    <tr style=\"text-align: right;\">\n",
              "      <th></th>\n",
              "      <th>ID</th>\n",
              "      <th>Gender</th>\n",
              "      <th>Age</th>\n",
              "      <th>Region_Code</th>\n",
              "      <th>Occupation</th>\n",
              "      <th>Channel_Code</th>\n",
              "      <th>Vintage</th>\n",
              "      <th>Credit_Product</th>\n",
              "      <th>Avg_Account_Balance</th>\n",
              "      <th>Is_Active</th>\n",
              "    </tr>\n",
              "  </thead>\n",
              "  <tbody>\n",
              "    <tr>\n",
              "      <th>0</th>\n",
              "      <td>VBENBARO</td>\n",
              "      <td>Male</td>\n",
              "      <td>29</td>\n",
              "      <td>RG254</td>\n",
              "      <td>Other</td>\n",
              "      <td>X1</td>\n",
              "      <td>25</td>\n",
              "      <td>Yes</td>\n",
              "      <td>742366</td>\n",
              "      <td>No</td>\n",
              "    </tr>\n",
              "    <tr>\n",
              "      <th>1</th>\n",
              "      <td>CCMEWNKY</td>\n",
              "      <td>Male</td>\n",
              "      <td>43</td>\n",
              "      <td>RG268</td>\n",
              "      <td>Other</td>\n",
              "      <td>X2</td>\n",
              "      <td>49</td>\n",
              "      <td>NaN</td>\n",
              "      <td>925537</td>\n",
              "      <td>No</td>\n",
              "    </tr>\n",
              "    <tr>\n",
              "      <th>2</th>\n",
              "      <td>VK3KGA9M</td>\n",
              "      <td>Male</td>\n",
              "      <td>31</td>\n",
              "      <td>RG270</td>\n",
              "      <td>Salaried</td>\n",
              "      <td>X1</td>\n",
              "      <td>14</td>\n",
              "      <td>No</td>\n",
              "      <td>215949</td>\n",
              "      <td>No</td>\n",
              "    </tr>\n",
              "    <tr>\n",
              "      <th>3</th>\n",
              "      <td>TT8RPZVC</td>\n",
              "      <td>Male</td>\n",
              "      <td>29</td>\n",
              "      <td>RG272</td>\n",
              "      <td>Other</td>\n",
              "      <td>X1</td>\n",
              "      <td>33</td>\n",
              "      <td>No</td>\n",
              "      <td>868070</td>\n",
              "      <td>No</td>\n",
              "    </tr>\n",
              "    <tr>\n",
              "      <th>4</th>\n",
              "      <td>SHQZEYTZ</td>\n",
              "      <td>Female</td>\n",
              "      <td>29</td>\n",
              "      <td>RG270</td>\n",
              "      <td>Other</td>\n",
              "      <td>X1</td>\n",
              "      <td>19</td>\n",
              "      <td>No</td>\n",
              "      <td>657087</td>\n",
              "      <td>No</td>\n",
              "    </tr>\n",
              "  </tbody>\n",
              "</table>\n",
              "</div>"
            ],
            "text/plain": [
              "         ID  Gender  Age  ... Credit_Product Avg_Account_Balance Is_Active\n",
              "0  VBENBARO    Male   29  ...            Yes              742366        No\n",
              "1  CCMEWNKY    Male   43  ...            NaN              925537        No\n",
              "2  VK3KGA9M    Male   31  ...             No              215949        No\n",
              "3  TT8RPZVC    Male   29  ...             No              868070        No\n",
              "4  SHQZEYTZ  Female   29  ...             No              657087        No\n",
              "\n",
              "[5 rows x 10 columns]"
            ]
          },
          "metadata": {
            "tags": []
          },
          "execution_count": 16
        }
      ]
    },
    {
      "cell_type": "code",
      "metadata": {
        "id": "u0-N9elxaEdT",
        "colab": {
          "base_uri": "https://localhost:8080/"
        },
        "outputId": "ad5f196a-f650-49cf-fb5f-b6c670ea2913"
      },
      "source": [
        "df_test.shape"
      ],
      "execution_count": 73,
      "outputs": [
        {
          "output_type": "execute_result",
          "data": {
            "text/plain": [
              "(105312, 10)"
            ]
          },
          "metadata": {
            "tags": []
          },
          "execution_count": 73
        }
      ]
    },
    {
      "cell_type": "code",
      "metadata": {
        "colab": {
          "base_uri": "https://localhost:8080/",
          "height": 204
        },
        "id": "5RxD1DQrUy4S",
        "outputId": "f8553f28-4dc7-4794-e97b-e69b8b01e051"
      },
      "source": [
        "df_sub = pd.read_csv(\"/content/drive/MyDrive/Colab Notebooks/sample_submission_eyYijxG.csv\")\n",
        "df_sub.head()"
      ],
      "execution_count": 74,
      "outputs": [
        {
          "output_type": "execute_result",
          "data": {
            "text/html": [
              "<div>\n",
              "<style scoped>\n",
              "    .dataframe tbody tr th:only-of-type {\n",
              "        vertical-align: middle;\n",
              "    }\n",
              "\n",
              "    .dataframe tbody tr th {\n",
              "        vertical-align: top;\n",
              "    }\n",
              "\n",
              "    .dataframe thead th {\n",
              "        text-align: right;\n",
              "    }\n",
              "</style>\n",
              "<table border=\"1\" class=\"dataframe\">\n",
              "  <thead>\n",
              "    <tr style=\"text-align: right;\">\n",
              "      <th></th>\n",
              "      <th>ID</th>\n",
              "      <th>Is_Lead</th>\n",
              "    </tr>\n",
              "  </thead>\n",
              "  <tbody>\n",
              "    <tr>\n",
              "      <th>0</th>\n",
              "      <td>VBENBARO</td>\n",
              "      <td>0</td>\n",
              "    </tr>\n",
              "    <tr>\n",
              "      <th>1</th>\n",
              "      <td>CCMEWNKY</td>\n",
              "      <td>0</td>\n",
              "    </tr>\n",
              "    <tr>\n",
              "      <th>2</th>\n",
              "      <td>VK3KGA9M</td>\n",
              "      <td>0</td>\n",
              "    </tr>\n",
              "    <tr>\n",
              "      <th>3</th>\n",
              "      <td>TT8RPZVC</td>\n",
              "      <td>0</td>\n",
              "    </tr>\n",
              "    <tr>\n",
              "      <th>4</th>\n",
              "      <td>SHQZEYTZ</td>\n",
              "      <td>0</td>\n",
              "    </tr>\n",
              "  </tbody>\n",
              "</table>\n",
              "</div>"
            ],
            "text/plain": [
              "         ID  Is_Lead\n",
              "0  VBENBARO        0\n",
              "1  CCMEWNKY        0\n",
              "2  VK3KGA9M        0\n",
              "3  TT8RPZVC        0\n",
              "4  SHQZEYTZ        0"
            ]
          },
          "metadata": {
            "tags": []
          },
          "execution_count": 74
        }
      ]
    },
    {
      "cell_type": "code",
      "metadata": {
        "id": "ZuzeVGNuSepV"
      },
      "source": [
        "df_test_v1 = pd.get_dummies(df_test[['Gender', 'Age', 'Region_Code', 'Occupation', 'Channel_Code',\n",
        "       'Vintage', 'Credit_Product', 'Avg_Account_Balance', 'Is_Active']])"
      ],
      "execution_count": 98,
      "outputs": []
    },
    {
      "cell_type": "markdown",
      "metadata": {
        "id": "XQ31aUcIHMIp"
      },
      "source": [
        "### Displaying the best model"
      ]
    },
    {
      "cell_type": "code",
      "metadata": {
        "colab": {
          "base_uri": "https://localhost:8080/",
          "height": 159
        },
        "id": "3cC7OWvtISbD",
        "outputId": "5bf5113f-2f4a-4875-93bb-b921a10d7c71"
      },
      "source": [
        "print(\"Top models are\")\n",
        "df_result = df_result.sort_values(by=['ROC_AUC_Score'], ascending= False).reset_index(drop = True)\n",
        "df_result[:3]"
      ],
      "execution_count": 68,
      "outputs": [
        {
          "output_type": "stream",
          "text": [
            "Top models are\n"
          ],
          "name": "stdout"
        },
        {
          "output_type": "execute_result",
          "data": {
            "text/html": [
              "<div>\n",
              "<style scoped>\n",
              "    .dataframe tbody tr th:only-of-type {\n",
              "        vertical-align: middle;\n",
              "    }\n",
              "\n",
              "    .dataframe tbody tr th {\n",
              "        vertical-align: top;\n",
              "    }\n",
              "\n",
              "    .dataframe thead th {\n",
              "        text-align: right;\n",
              "    }\n",
              "</style>\n",
              "<table border=\"1\" class=\"dataframe\">\n",
              "  <thead>\n",
              "    <tr style=\"text-align: right;\">\n",
              "      <th></th>\n",
              "      <th>Model_Name</th>\n",
              "      <th>ROC_AUC_Score</th>\n",
              "    </tr>\n",
              "  </thead>\n",
              "  <tbody>\n",
              "    <tr>\n",
              "      <th>0</th>\n",
              "      <td>LightGBM</td>\n",
              "      <td>0.873831</td>\n",
              "    </tr>\n",
              "    <tr>\n",
              "      <th>1</th>\n",
              "      <td>Tuned RF w missing values</td>\n",
              "      <td>0.868697</td>\n",
              "    </tr>\n",
              "    <tr>\n",
              "      <th>2</th>\n",
              "      <td>Hyperparameter Optm RF</td>\n",
              "      <td>0.867300</td>\n",
              "    </tr>\n",
              "  </tbody>\n",
              "</table>\n",
              "</div>"
            ],
            "text/plain": [
              "                  Model_Name  ROC_AUC_Score\n",
              "0                   LightGBM       0.873831\n",
              "1  Tuned RF w missing values       0.868697\n",
              "2     Hyperparameter Optm RF       0.867300"
            ]
          },
          "metadata": {
            "tags": []
          },
          "execution_count": 68
        }
      ]
    },
    {
      "cell_type": "code",
      "metadata": {
        "id": "qajb9FcTJoEb"
      },
      "source": [
        "y_pred = Tuned_RF.predict_proba(df_test_v1)\n",
        "df_submission = df_test[['ID']]\n",
        "df_submission['Is_Lead'] = y_pred[:,1]\n",
        "df_submission.to_csv(\"/content/drive/MyDrive/Colab Notebooks/submission_RF_final.csv\", index=False)"
      ],
      "execution_count": 80,
      "outputs": []
    },
    {
      "cell_type": "markdown",
      "metadata": {
        "id": "ImFsMkypJV8A"
      },
      "source": [
        "### Re Training of the top 3 models with 100% data"
      ]
    },
    {
      "cell_type": "code",
      "metadata": {
        "id": "zmRWa27H5ZT5"
      },
      "source": [
        "##Feature engineering for LGBM\n",
        "df_region = df_ads_v2[['Region_Code','Region_Code_total_entrepreneur',\n",
        "                        'Region_Code_total_Salaried', 'Region_Code_total_Self_Employed',\n",
        "                       'Region_Code_total_Other', 'Region_Code_total_female','Region_Code_total_sum', 'Region_Code_AvgAge',\n",
        "                       'Region_Code_avg_account_bal', 'Region_Code_avg_vintage']].drop_duplicates()\n",
        "df_testv1 = pd.merge(df_test, df_region, on = ['Region_Code'], how = 'left')\n",
        "df_testv1 = pd.merge(df_testv1, df_occupation, on = ['Occupation'], how = 'left')\n",
        "df_testv1 = pd.merge(df_testv1, df_Channel_Code, on = ['Channel_Code'], how = 'left')\n",
        "\n",
        "df_testv1 = df_testv1[['Gender', 'Age', 'Region_Code', 'Occupation', 'Channel_Code',\n",
        "       'Vintage', 'Credit_Product', 'Avg_Account_Balance', 'Is_Active', 'Region_Code_total_entrepreneur',\n",
        "       'Region_Code_total_Salaried', 'Region_Code_total_Self_Employed',\n",
        "       'Region_Code_total_Other', 'Region_Code_total_female',\n",
        "       'Region_Code_total_sum', 'Region_Code_AvgAge',\n",
        "       'Region_Code_avg_account_bal', 'Region_Code_avg_vintage',\n",
        "       'Occupation_count', 'Occupation_total_female', 'Occupation_age',\n",
        "       'Occupation_avg_account_balance', 'Occupation_Vintage',\n",
        "       'Channel_Code_count', 'Channel_Code_total_female', 'Channel_Code_age',\n",
        "       'Channel_Code_avg_account_balance', 'Channel_Code_Vintage']]\n",
        "df_testv1 = df_testv1.replace({'Female': 1, 'Male': 0})\n",
        "df_testv1 = pd.get_dummies(df_testv1)  \n",
        "\n",
        "## LGBM\n",
        "df_submission = df_test[['ID']]\n",
        "df_submission['Is_Lead'] = preds_lgbm['Is_Lead']\n",
        "df_submission.to_csv(\"/content/drive/MyDrive/Colab Notebooks/submission_LGBM.csv\", index=False)"
      ],
      "execution_count": 60,
      "outputs": []
    },
    {
      "cell_type": "markdown",
      "metadata": {
        "id": "g2BQrvomKelX"
      },
      "source": [
        "#### Re training of first champion model"
      ]
    },
    {
      "cell_type": "code",
      "metadata": {
        "id": "WLKM8497JTh2"
      },
      "source": [
        "X = df_ads[['Gender', 'Age', 'Region_Code', 'Occupation', 'Channel_Code',\n",
        "                'Vintage', 'Credit_Product', 'Avg_Account_Balance', 'Is_Active']]\n",
        "X = pd.get_dummies(X)           \n",
        "y = df_ads['Is_Lead']"
      ],
      "execution_count": 99,
      "outputs": []
    },
    {
      "cell_type": "markdown",
      "metadata": {
        "id": "e_E7T2JtKmAe"
      },
      "source": [
        "#### Re training of first challenger model"
      ]
    },
    {
      "cell_type": "code",
      "metadata": {
        "id": "ubcHIfl5KOjh"
      },
      "source": [
        "Tuned_RF_re = RandomForestClassifier(max_depth=12, n_estimators=150,  random_state=0, n_jobs =-1)\n",
        "Tuned_RF_re.fit(X, y)\n",
        "\n",
        "y_pred = Tuned_RF_re.predict_proba(df_test_v1)\n",
        "df_submission = df_test[['ID']]\n",
        "df_submission['Is_Lead'] = y_pred[:,1]\n",
        "df_submission.to_csv(\"/content/drive/MyDrive/Colab Notebooks/submission_RF_tuned_re.csv\", index=False)"
      ],
      "execution_count": 100,
      "outputs": []
    },
    {
      "cell_type": "markdown",
      "metadata": {
        "id": "0mxuRC0wLbqM"
      },
      "source": [
        "#### Re training of Second challenger model"
      ]
    },
    {
      "cell_type": "code",
      "metadata": {
        "id": "wy2luy3cKmAf"
      },
      "source": [
        "Tuned_rs_RF = RandomForestClassifier(criterion= 'gini', max_depth= 80, max_features= 3, min_samples_leaf= 4, min_samples_split= 10, n_estimators= 1000, random_state=42)\n",
        "Tuned_rs_RF.fit(X, y)\n",
        "\n",
        "y_pred = Tuned_rs_RF.predict_proba(df_test_v1)\n",
        "df_submission = df_test[['ID']]\n",
        "df_submission['Is_Lead'] = y_pred[:,1]\n",
        "df_submission.to_csv(\"/content/drive/MyDrive/Colab Notebooks/submission_RF_rs_re.csv\", index=False)"
      ],
      "execution_count": 102,
      "outputs": []
    }
  ]
}